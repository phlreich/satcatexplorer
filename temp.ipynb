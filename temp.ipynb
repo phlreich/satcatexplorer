{
 "cells": [
  {
   "cell_type": "code",
   "execution_count": 1,
   "metadata": {},
   "outputs": [
    {
     "name": "stdout",
     "output_type": "stream",
     "text": [
      "  OBJECT_NAME  OBJECT_ID  NORAD_CAT_ID OBJECT_TYPE OPS_STATUS_CODE OWNER  \\\n",
      "0    SL-1 R/B  1957-001A             1         R/B               D   CIS   \n",
      "1   SPUTNIK 1  1957-001B             2         PAY               D   CIS   \n",
      "2   SPUTNIK 2  1957-002A             3         PAY               D   CIS   \n",
      "3  EXPLORER 1  1958-001A             4         PAY               D    US   \n",
      "4  VANGUARD 1  1958-002B             5         PAY             NaN    US   \n",
      "\n",
      "  LAUNCH_DATE LAUNCH_SITE  DECAY_DATE  PERIOD  INCLINATION  APOGEE  PERIGEE  \\\n",
      "0  1957-10-04       TYMSC  1957-12-01   96.19        65.10   938.0    214.0   \n",
      "1  1957-10-04       TYMSC  1958-01-03   96.10        65.00  1080.0     64.0   \n",
      "2  1957-11-03       TYMSC  1958-04-14  103.74        65.33  1659.0    211.0   \n",
      "3  1958-02-01       AFETR  1970-03-31   88.48        33.15   215.0    183.0   \n",
      "4  1958-03-17       AFETR         NaN  132.71        34.24  3832.0    649.0   \n",
      "\n",
      "      RCS DATA_STATUS_CODE ORBIT_CENTER ORBIT_TYPE  \n",
      "0  20.420              NaN           EA        IMP  \n",
      "1     NaN              NaN           EA        IMP  \n",
      "2   0.080              NaN           EA        IMP  \n",
      "3     NaN              NaN           EA        IMP  \n",
      "4   0.122              NaN           EA        ORB  \n"
     ]
    }
   ],
   "source": [
    "import pandas as pd\n",
    "\n",
    "# Load the csv file into a pandas DataFrame\n",
    "df = pd.read_csv('public/data/satcat.csv')\n",
    "\n",
    "# Print the first 5 rows of the DataFrame\n",
    "print(df.head())"
   ]
  },
  {
   "cell_type": "code",
   "execution_count": 2,
   "metadata": {},
   "outputs": [
    {
     "name": "stdout",
     "output_type": "stream",
     "text": [
      "     OBJECT_NAME  OBJECT_ID  NORAD_CAT_ID OBJECT_TYPE OPS_STATUS_CODE OWNER  \\\n",
      "4     VANGUARD 1  1958-002B             5         PAY             NaN    US   \n",
      "10    VANGUARD 2  1959-001A            11         PAY             NaN    US   \n",
      "11  VANGUARD R/B  1959-001B            12         R/B             NaN    US   \n",
      "\n",
      "   LAUNCH_DATE LAUNCH_SITE DECAY_DATE  PERIOD  INCLINATION  APOGEE  PERIGEE  \\\n",
      "4   1958-03-17       AFETR        NaN  132.71        34.24  3832.0    649.0   \n",
      "10  1959-02-17       AFETR        NaN  121.30        32.88  2926.0    552.0   \n",
      "11  1959-02-17       AFETR        NaN  125.70        32.90  3314.0    554.0   \n",
      "\n",
      "       RCS DATA_STATUS_CODE ORBIT_CENTER ORBIT_TYPE  \n",
      "4   0.1220              NaN           EA        ORB  \n",
      "10  0.3931              NaN           EA        ORB  \n",
      "11  0.5266              NaN           EA        ORB  \n"
     ]
    }
   ],
   "source": [
    "# Print the first 3 rows of the DataFrame where the ORBIT_TYPE is 'ORB'\n",
    "print(df[df['ORBIT_TYPE'] == 'ORB'].head(3))"
   ]
  },
  {
   "cell_type": "code",
   "execution_count": 5,
   "metadata": {},
   "outputs": [
    {
     "name": "stdout",
     "output_type": "stream",
     "text": [
      "    OBJECT_NAME  OBJECT_ID                       EPOCH  MEAN_MOTION  \\\n",
      "0   CALSPHERE 1  1964-063C  2023-05-30T23:04:25.428288    13.743246   \n",
      "1   CALSPHERE 2  1964-063E  2023-05-31T04:50:18.096576    13.527515   \n",
      "2         LCS 1  1965-034C  2023-05-30T18:53:05.015040     9.893030   \n",
      "3     TEMPSAT 1  1965-065E  2023-05-30T16:04:05.988864    13.334788   \n",
      "4  CALSPHERE 4A  1965-065H  2023-05-30T22:55:54.686784    13.359660   \n",
      "\n",
      "   ECCENTRICITY  INCLINATION  RA_OF_ASC_NODE  ARG_OF_PERICENTER  MEAN_ANOMALY  \\\n",
      "0      0.002916      90.1910         47.5177            57.1865      314.2538   \n",
      "1      0.001714      90.2065         50.8529           213.4411      312.2867   \n",
      "2      0.000807      32.1435        300.6164            33.2187      326.8816   \n",
      "3      0.007148      89.9348        216.1096           134.4653      342.7040   \n",
      "4      0.006941      89.9686        129.5785             5.7166       59.6587   \n",
      "\n",
      "   EPHEMERIS_TYPE CLASSIFICATION_TYPE  NORAD_CAT_ID  ELEMENT_SET_NO  \\\n",
      "0               0                   U           900             999   \n",
      "1               0                   U           902             999   \n",
      "2               0                   U          1361             999   \n",
      "3               0                   U          1512             999   \n",
      "4               0                   U          1520             999   \n",
      "\n",
      "   REV_AT_EPOCH     BSTAR  MEAN_MOTION_DOT  MEAN_MOTION_DDOT  \n",
      "0         91838  0.000661     6.350000e-06               0.0  \n",
      "1         70624  0.000048     4.000000e-07               0.0  \n",
      "2          9962  0.000145     9.000000e-08               0.0  \n",
      "3         81164  0.000036     2.800000e-07               0.0  \n",
      "4         81405  0.000198     1.120000e-06               0.0  \n"
     ]
    },
    {
     "data": {
      "text/plain": [
       "7796"
      ]
     },
     "execution_count": 5,
     "metadata": {},
     "output_type": "execute_result"
    }
   ],
   "source": [
    "# head of 'public/data/active.csv'\n",
    "\n",
    "import pandas\n",
    "\n",
    "# Load the csv file into a pandas DataFrame\n",
    "\n",
    "df = pandas.read_csv('public/data/active.csv')\n",
    "\n",
    "# Print the first 5 rows of the DataFrame\n",
    "\n",
    "print(df.head())\n",
    "\n",
    "len(df)"
   ]
  },
  {
   "cell_type": "code",
   "execution_count": 6,
   "metadata": {},
   "outputs": [
    {
     "name": "stdout",
     "output_type": "stream",
     "text": [
      "    OBJECT_NAME  OBJECT_ID                       EPOCH  MEAN_MOTION  \\\n",
      "838       MMS 1  2015-011A  2023-05-29T14:04:17.216832      0.28556   \n",
      "\n",
      "     ECCENTRICITY  INCLINATION  RA_OF_ASC_NODE  ARG_OF_PERICENTER  \\\n",
      "838      0.910626      29.0914           66.33            94.0515   \n",
      "\n",
      "     MEAN_ANOMALY  EPHEMERIS_TYPE CLASSIFICATION_TYPE  NORAD_CAT_ID  \\\n",
      "838      322.0797               0                   U         40482   \n",
      "\n",
      "     ELEMENT_SET_NO  REV_AT_EPOCH  BSTAR  MEAN_MOTION_DOT  MEAN_MOTION_DDOT  \n",
      "838             999          1428    0.0    -5.000000e-08               0.0  \n"
     ]
    }
   ],
   "source": [
    "# print the row with the most eccentric orbit\n",
    "print(df[df['ECCENTRICITY'] == df['ECCENTRICITY'].max()])"
   ]
  }
 ],
 "metadata": {
  "kernelspec": {
   "display_name": "venv",
   "language": "python",
   "name": "python3"
  },
  "language_info": {
   "codemirror_mode": {
    "name": "ipython",
    "version": 3
   },
   "file_extension": ".py",
   "mimetype": "text/x-python",
   "name": "python",
   "nbconvert_exporter": "python",
   "pygments_lexer": "ipython3",
   "version": "3.11.3"
  },
  "orig_nbformat": 4
 },
 "nbformat": 4,
 "nbformat_minor": 2
}
