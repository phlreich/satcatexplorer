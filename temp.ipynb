{
 "cells": [
  {
   "cell_type": "code",
   "execution_count": 1,
   "metadata": {},
   "outputs": [
    {
     "name": "stdout",
     "output_type": "stream",
     "text": [
      "  OBJECT_NAME  OBJECT_ID  NORAD_CAT_ID OBJECT_TYPE OPS_STATUS_CODE OWNER   \n",
      "0    SL-1 R/B  1957-001A             1         R/B               D   CIS  \\\n",
      "1   SPUTNIK 1  1957-001B             2         PAY               D   CIS   \n",
      "2   SPUTNIK 2  1957-002A             3         PAY               D   CIS   \n",
      "3  EXPLORER 1  1958-001A             4         PAY               D    US   \n",
      "4  VANGUARD 1  1958-002B             5         PAY             NaN    US   \n",
      "\n",
      "  LAUNCH_DATE LAUNCH_SITE  DECAY_DATE  PERIOD  INCLINATION  APOGEE  PERIGEE   \n",
      "0  1957-10-04       TYMSC  1957-12-01   96.19        65.10   938.0    214.0  \\\n",
      "1  1957-10-04       TYMSC  1958-01-03   96.10        65.00  1080.0     64.0   \n",
      "2  1957-11-03       TYMSC  1958-04-14  103.74        65.33  1659.0    211.0   \n",
      "3  1958-02-01       AFETR  1970-03-31   88.48        33.15   215.0    183.0   \n",
      "4  1958-03-17       AFETR         NaN  132.71        34.24  3832.0    649.0   \n",
      "\n",
      "      RCS DATA_STATUS_CODE ORBIT_CENTER ORBIT_TYPE  \n",
      "0  20.420              NaN           EA        IMP  \n",
      "1     NaN              NaN           EA        IMP  \n",
      "2   0.080              NaN           EA        IMP  \n",
      "3     NaN              NaN           EA        IMP  \n",
      "4   0.122              NaN           EA        ORB  \n"
     ]
    }
   ],
   "source": [
    "import pandas as pd\n",
    "\n",
    "# Load the csv file into a pandas DataFrame\n",
    "df = pd.read_csv('data/satcat.csv')\n",
    "\n",
    "# Print the first 5 rows of the DataFrame\n",
    "print(df.head())"
   ]
  },
  {
   "cell_type": "code",
   "execution_count": 5,
   "metadata": {},
   "outputs": [
    {
     "name": "stdout",
     "output_type": "stream",
     "text": [
      "     OBJECT_NAME  OBJECT_ID  NORAD_CAT_ID OBJECT_TYPE OPS_STATUS_CODE OWNER   \n",
      "4     VANGUARD 1  1958-002B             5         PAY             NaN    US  \\\n",
      "10    VANGUARD 2  1959-001A            11         PAY             NaN    US   \n",
      "11  VANGUARD R/B  1959-001B            12         R/B             NaN    US   \n",
      "\n",
      "   LAUNCH_DATE LAUNCH_SITE DECAY_DATE  PERIOD  INCLINATION  APOGEE  PERIGEE   \n",
      "4   1958-03-17       AFETR        NaN  132.71        34.24  3832.0    649.0  \\\n",
      "10  1959-02-17       AFETR        NaN  121.30        32.87  2926.0    552.0   \n",
      "11  1959-02-17       AFETR        NaN  125.70        32.91  3315.0    553.0   \n",
      "\n",
      "       RCS DATA_STATUS_CODE ORBIT_CENTER ORBIT_TYPE  \n",
      "4   0.1220              NaN           EA        ORB  \n",
      "10  0.3931              NaN           EA        ORB  \n",
      "11  0.5266              NaN           EA        ORB  \n"
     ]
    }
   ],
   "source": [
    "# Print the first 3 rows of the DataFrame where the ORBIT_TYPE is 'ORB'\n",
    "print(df[df['ORBIT_TYPE'] == 'ORB'].head(3))"
   ]
  }
 ],
 "metadata": {
  "kernelspec": {
   "display_name": "venv",
   "language": "python",
   "name": "python3"
  },
  "language_info": {
   "codemirror_mode": {
    "name": "ipython",
    "version": 3
   },
   "file_extension": ".py",
   "mimetype": "text/x-python",
   "name": "python",
   "nbconvert_exporter": "python",
   "pygments_lexer": "ipython3",
   "version": "3.11.3"
  },
  "orig_nbformat": 4
 },
 "nbformat": 4,
 "nbformat_minor": 2
}
